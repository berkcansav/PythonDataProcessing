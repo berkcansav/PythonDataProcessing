{
 "cells": [
  {
   "cell_type": "code",
   "execution_count": 55,
   "id": "b2be2598-3e4d-4542-8e17-e48cde006acd",
   "metadata": {},
   "outputs": [
    {
     "name": "stdout",
     "output_type": "stream",
     "text": [
      "Individual task : 1\n"
     ]
    }
   ],
   "source": [
    "# The first letter of your name (for example 'A')\n",
    "first_letter = 'A'  # Changing this to 'A' will yield a result of 1.\n",
    "\n",
    "# Calculate the individual task number according to the formula\n",
    "N = ord(first_letter) % 5 + 1\n",
    "print(\"Individual task :\", N)\n"
   ]
  },
  {
   "cell_type": "code",
   "execution_count": 56,
   "id": "80b2cef2-0d97-4db7-991e-7267c1412c16",
   "metadata": {},
   "outputs": [
    {
     "name": "stdout",
     "output_type": "stream",
     "text": [
      "   Id       Name  Year Gender  Count\n",
      "0   1       Mary  1880      F   7065\n",
      "1   2       Anna  1880      F   2604\n",
      "2   3       Emma  1880      F   2003\n",
      "3   4  Elizabeth  1880      F   1939\n",
      "4   5     Minnie  1880      F   1746\n"
     ]
    }
   ],
   "source": [
    "import pandas as pd\n",
    "\n",
    "df = pd.read_csv('NationalNames.csv')\n",
    "\n",
    "print(df.head())\n"
   ]
  },
  {
   "cell_type": "code",
   "execution_count": 14,
   "id": "ddc0df7f-f247-4aa8-9f94-c0076cf167da",
   "metadata": {},
   "outputs": [
    {
     "data": {
      "text/html": [
       "<div>\n",
       "<style scoped>\n",
       "    .dataframe tbody tr th:only-of-type {\n",
       "        vertical-align: middle;\n",
       "    }\n",
       "\n",
       "    .dataframe tbody tr th {\n",
       "        vertical-align: top;\n",
       "    }\n",
       "\n",
       "    .dataframe thead th {\n",
       "        text-align: right;\n",
       "    }\n",
       "</style>\n",
       "<table border=\"1\" class=\"dataframe\">\n",
       "  <thead>\n",
       "    <tr style=\"text-align: right;\">\n",
       "      <th></th>\n",
       "      <th>Id</th>\n",
       "      <th>Name</th>\n",
       "      <th>Year</th>\n",
       "      <th>Gender</th>\n",
       "      <th>Count</th>\n",
       "    </tr>\n",
       "  </thead>\n",
       "  <tbody>\n",
       "    <tr>\n",
       "      <th>0</th>\n",
       "      <td>1</td>\n",
       "      <td>Mary</td>\n",
       "      <td>1880</td>\n",
       "      <td>F</td>\n",
       "      <td>7065</td>\n",
       "    </tr>\n",
       "    <tr>\n",
       "      <th>1</th>\n",
       "      <td>2</td>\n",
       "      <td>Anna</td>\n",
       "      <td>1880</td>\n",
       "      <td>F</td>\n",
       "      <td>2604</td>\n",
       "    </tr>\n",
       "    <tr>\n",
       "      <th>2</th>\n",
       "      <td>3</td>\n",
       "      <td>Emma</td>\n",
       "      <td>1880</td>\n",
       "      <td>F</td>\n",
       "      <td>2003</td>\n",
       "    </tr>\n",
       "    <tr>\n",
       "      <th>3</th>\n",
       "      <td>4</td>\n",
       "      <td>Elizabeth</td>\n",
       "      <td>1880</td>\n",
       "      <td>F</td>\n",
       "      <td>1939</td>\n",
       "    </tr>\n",
       "    <tr>\n",
       "      <th>4</th>\n",
       "      <td>5</td>\n",
       "      <td>Minnie</td>\n",
       "      <td>1880</td>\n",
       "      <td>F</td>\n",
       "      <td>1746</td>\n",
       "    </tr>\n",
       "    <tr>\n",
       "      <th>5</th>\n",
       "      <td>6</td>\n",
       "      <td>Margaret</td>\n",
       "      <td>1880</td>\n",
       "      <td>F</td>\n",
       "      <td>1578</td>\n",
       "    </tr>\n",
       "    <tr>\n",
       "      <th>6</th>\n",
       "      <td>7</td>\n",
       "      <td>Ida</td>\n",
       "      <td>1880</td>\n",
       "      <td>F</td>\n",
       "      <td>1472</td>\n",
       "    </tr>\n",
       "    <tr>\n",
       "      <th>7</th>\n",
       "      <td>8</td>\n",
       "      <td>Alice</td>\n",
       "      <td>1880</td>\n",
       "      <td>F</td>\n",
       "      <td>1414</td>\n",
       "    </tr>\n",
       "  </tbody>\n",
       "</table>\n",
       "</div>"
      ],
      "text/plain": [
       "   Id       Name  Year Gender  Count\n",
       "0   1       Mary  1880      F   7065\n",
       "1   2       Anna  1880      F   2604\n",
       "2   3       Emma  1880      F   2003\n",
       "3   4  Elizabeth  1880      F   1939\n",
       "4   5     Minnie  1880      F   1746\n",
       "5   6   Margaret  1880      F   1578\n",
       "6   7        Ida  1880      F   1472\n",
       "7   8      Alice  1880      F   1414"
      ]
     },
     "execution_count": 14,
     "metadata": {},
     "output_type": "execute_result"
    }
   ],
   "source": [
    "df.head(8)\n"
   ]
  },
  {
   "cell_type": "code",
   "execution_count": 15,
   "id": "1985febe-f00b-4e17-be20-976ed3e2de89",
   "metadata": {},
   "outputs": [
    {
     "data": {
      "text/html": [
       "<div>\n",
       "<style scoped>\n",
       "    .dataframe tbody tr th:only-of-type {\n",
       "        vertical-align: middle;\n",
       "    }\n",
       "\n",
       "    .dataframe tbody tr th {\n",
       "        vertical-align: top;\n",
       "    }\n",
       "\n",
       "    .dataframe thead th {\n",
       "        text-align: right;\n",
       "    }\n",
       "</style>\n",
       "<table border=\"1\" class=\"dataframe\">\n",
       "  <thead>\n",
       "    <tr style=\"text-align: right;\">\n",
       "      <th></th>\n",
       "      <th>Id</th>\n",
       "      <th>Name</th>\n",
       "      <th>Year</th>\n",
       "      <th>Gender</th>\n",
       "      <th>Count</th>\n",
       "    </tr>\n",
       "  </thead>\n",
       "  <tbody>\n",
       "    <tr>\n",
       "      <th>1825425</th>\n",
       "      <td>1825426</td>\n",
       "      <td>Zo</td>\n",
       "      <td>2014</td>\n",
       "      <td>M</td>\n",
       "      <td>5</td>\n",
       "    </tr>\n",
       "    <tr>\n",
       "      <th>1825426</th>\n",
       "      <td>1825427</td>\n",
       "      <td>Zyeir</td>\n",
       "      <td>2014</td>\n",
       "      <td>M</td>\n",
       "      <td>5</td>\n",
       "    </tr>\n",
       "    <tr>\n",
       "      <th>1825427</th>\n",
       "      <td>1825428</td>\n",
       "      <td>Zyel</td>\n",
       "      <td>2014</td>\n",
       "      <td>M</td>\n",
       "      <td>5</td>\n",
       "    </tr>\n",
       "    <tr>\n",
       "      <th>1825428</th>\n",
       "      <td>1825429</td>\n",
       "      <td>Zykeem</td>\n",
       "      <td>2014</td>\n",
       "      <td>M</td>\n",
       "      <td>5</td>\n",
       "    </tr>\n",
       "    <tr>\n",
       "      <th>1825429</th>\n",
       "      <td>1825430</td>\n",
       "      <td>Zymeer</td>\n",
       "      <td>2014</td>\n",
       "      <td>M</td>\n",
       "      <td>5</td>\n",
       "    </tr>\n",
       "    <tr>\n",
       "      <th>1825430</th>\n",
       "      <td>1825431</td>\n",
       "      <td>Zymiere</td>\n",
       "      <td>2014</td>\n",
       "      <td>M</td>\n",
       "      <td>5</td>\n",
       "    </tr>\n",
       "    <tr>\n",
       "      <th>1825431</th>\n",
       "      <td>1825432</td>\n",
       "      <td>Zyran</td>\n",
       "      <td>2014</td>\n",
       "      <td>M</td>\n",
       "      <td>5</td>\n",
       "    </tr>\n",
       "    <tr>\n",
       "      <th>1825432</th>\n",
       "      <td>1825433</td>\n",
       "      <td>Zyrin</td>\n",
       "      <td>2014</td>\n",
       "      <td>M</td>\n",
       "      <td>5</td>\n",
       "    </tr>\n",
       "  </tbody>\n",
       "</table>\n",
       "</div>"
      ],
      "text/plain": [
       "              Id     Name  Year Gender  Count\n",
       "1825425  1825426       Zo  2014      M      5\n",
       "1825426  1825427    Zyeir  2014      M      5\n",
       "1825427  1825428     Zyel  2014      M      5\n",
       "1825428  1825429   Zykeem  2014      M      5\n",
       "1825429  1825430   Zymeer  2014      M      5\n",
       "1825430  1825431  Zymiere  2014      M      5\n",
       "1825431  1825432    Zyran  2014      M      5\n",
       "1825432  1825433    Zyrin  2014      M      5"
      ]
     },
     "execution_count": 15,
     "metadata": {},
     "output_type": "execute_result"
    }
   ],
   "source": [
    "df.tail(8)\n"
   ]
  },
  {
   "cell_type": "code",
   "execution_count": 26,
   "id": "0f3ff5c5-1db8-4c8d-94f7-3ba0feba93bb",
   "metadata": {},
   "outputs": [
    {
     "name": "stdout",
     "output_type": "stream",
     "text": [
      "Index(['Id', 'Name', 'Year', 'Gender', 'Count'], dtype='object')\n"
     ]
    }
   ],
   "source": [
    "df.columns\n",
    "print(df.columns)\n"
   ]
  },
  {
   "cell_type": "code",
   "execution_count": 27,
   "id": "394c6523-b836-45de-98cb-c71b14e0632e",
   "metadata": {},
   "outputs": [
    {
     "name": "stdout",
     "output_type": "stream",
     "text": [
      "Unique names count: 93889\n"
     ]
    }
   ],
   "source": [
    "unique_names_count = df['Name'].nunique()\n",
    "print(f\"Unique names count: {unique_names_count}\")\n"
   ]
  },
  {
   "cell_type": "code",
   "execution_count": 29,
   "id": "9b19566e-bb26-4f4e-9dc1-a0897f9f1aec",
   "metadata": {},
   "outputs": [
    {
     "name": "stdout",
     "output_type": "stream",
     "text": [
      "Year\n",
      "1880     1889\n",
      "1881     1830\n",
      "1882     2012\n",
      "1883     1962\n",
      "1884     2158\n",
      "        ...  \n",
      "2010    31603\n",
      "2011    31418\n",
      "2012    31236\n",
      "2013    30774\n",
      "2014    30579\n",
      "Name: Name, Length: 135, dtype: int64\n"
     ]
    }
   ],
   "source": [
    "unique_names_per_year = df.groupby('Year')['Name'].nunique()\n",
    "print(unique_names_per_year)\n"
   ]
  },
  {
   "cell_type": "code",
   "execution_count": 30,
   "id": "568fab59-395b-493f-b9a1-ae77f2741aef",
   "metadata": {},
   "outputs": [
    {
     "name": "stdout",
     "output_type": "stream",
     "text": [
      "2008\n"
     ]
    }
   ],
   "source": [
    "year_most_unique_names = unique_names_per_year.idxmax()\n",
    "print(year_most_unique_names)\n"
   ]
  },
  {
   "cell_type": "code",
   "execution_count": 32,
   "id": "28da9e42-821c-4da6-9b98-253f3358a48a",
   "metadata": {},
   "outputs": [
    {
     "name": "stdout",
     "output_type": "stream",
     "text": [
      "Jacob\n"
     ]
    }
   ],
   "source": [
    "year_2008 = df[df['Year'] == 2008]\n",
    "most_popular_name_2008 = year_2008.groupby('Name')['Count'].sum().idxmax()\n",
    "print(most_popular_name_2008)"
   ]
  },
  {
   "cell_type": "code",
   "execution_count": 33,
   "id": "0c445e0c-5dfe-4588-b678-62e5b7b62d10",
   "metadata": {},
   "outputs": [
    {
     "name": "stdout",
     "output_type": "stream",
     "text": [
      "2004\n"
     ]
    }
   ],
   "source": [
    "jacob_female = df[(df['Name'] == 'Jacob') & (df['Gender'] == 'F')]\n",
    "year_jacob_female_popular = jacob_female.groupby('Year')['Count'].sum().idxmax()\n",
    "print(year_jacob_female_popular)"
   ]
  },
  {
   "cell_type": "code",
   "execution_count": 35,
   "id": "d4803de3-56df-4236-9449-06027e8e22f4",
   "metadata": {},
   "outputs": [
    {
     "name": "stdout",
     "output_type": "stream",
     "text": [
      "2008\n"
     ]
    }
   ],
   "source": [
    "gender_neutral_names = df.groupby(['Year', 'Name', 'Gender'])['Count'].sum().unstack().dropna()\n",
    "most_gender_neutral_year = gender_neutral_names.groupby('Year').size().idxmax()\n",
    "print(most_gender_neutral_year)"
   ]
  },
  {
   "cell_type": "code",
   "execution_count": 36,
   "id": "5fe927e6-59a2-440a-8105-b1e6cdc5ced3",
   "metadata": {},
   "outputs": [
    {
     "name": "stdout",
     "output_type": "stream",
     "text": [
      "Year\n",
      "1880     201484\n",
      "1881     192699\n",
      "1882     221538\n",
      "1883     216950\n",
      "1884     243467\n",
      "         ...   \n",
      "2010    3686589\n",
      "2011    3646730\n",
      "2012    3643336\n",
      "2013    3626802\n",
      "2014    3670151\n",
      "Name: Count, Length: 135, dtype: int64\n"
     ]
    }
   ],
   "source": [
    "births_per_year = df.groupby('Year')['Count'].sum()\n",
    "print(births_per_year)"
   ]
  },
  {
   "cell_type": "code",
   "execution_count": 38,
   "id": "dd40302b-51c9-4ca2-bfc4-9f0cb3ff398b",
   "metadata": {},
   "outputs": [
    {
     "name": "stdout",
     "output_type": "stream",
     "text": [
      "1957\n"
     ]
    }
   ],
   "source": [
    "year_most_births = births_per_year.idxmax()\n",
    "print(year_most_births)"
   ]
  },
  {
   "cell_type": "code",
   "execution_count": 39,
   "id": "e6ef9258-01e5-4992-b67f-fa28708697c8",
   "metadata": {},
   "outputs": [
    {
     "name": "stdout",
     "output_type": "stream",
     "text": [
      "Gender        F        M\n",
      "Year                    \n",
      "1880      90993   110491\n",
      "1881      91954   100745\n",
      "1882     107850   113688\n",
      "1883     112321   104629\n",
      "1884     129022   114445\n",
      "...         ...      ...\n",
      "2010    1772738  1913851\n",
      "2011    1753500  1893230\n",
      "2012    1753922  1889414\n",
      "2013    1745339  1881463\n",
      "2014    1768775  1901376\n",
      "\n",
      "[135 rows x 2 columns]\n"
     ]
    }
   ],
   "source": [
    "births_by_gender_per_year = df.groupby(['Year', 'Gender'])['Count'].sum().unstack()\n",
    "print(births_by_gender_per_year)"
   ]
  },
  {
   "cell_type": "code",
   "execution_count": 40,
   "id": "1e99b752-79e4-4a22-b6ef-40d0b3570c78",
   "metadata": {},
   "outputs": [
    {
     "name": "stdout",
     "output_type": "stream",
     "text": [
      "54\n"
     ]
    }
   ],
   "source": [
    "years_more_girls = (births_by_gender_per_year['F'] > births_by_gender_per_year['M']).sum()\n",
    "print(years_more_girls)"
   ]
  },
  {
   "cell_type": "code",
   "execution_count": 41,
   "id": "7faa336b-40b5-4236-bba2-8b5af03b50c2",
   "metadata": {},
   "outputs": [
    {
     "name": "stdout",
     "output_type": "stream",
     "text": [
      "4139\n"
     ]
    }
   ],
   "source": [
    "barbara_boys_count = df[(df['Name'] == 'Barbara') & (df['Gender'] == 'M')]['Count'].sum()\n",
    "print(barbara_boys_count)"
   ]
  },
  {
   "cell_type": "code",
   "execution_count": 42,
   "id": "bb83af0a-811e-4755-b2cb-b8421afad6c3",
   "metadata": {},
   "outputs": [
    {
     "name": "stdout",
     "output_type": "stream",
     "text": [
      "135\n"
     ]
    }
   ],
   "source": [
    "years_observed = df['Year'].nunique()\n",
    "print(years_observed)"
   ]
  },
  {
   "cell_type": "code",
   "execution_count": 43,
   "id": "5fd7af63-4430-4bfd-a3b3-339b54b3256a",
   "metadata": {},
   "outputs": [
    {
     "name": "stdout",
     "output_type": "stream",
     "text": [
      "Index(['Aaden', 'Aadi', 'Aadyn', 'Aalijah', 'Aaliyah', 'Aamari', 'Aamir',\n",
      "       'Aaren', 'Aareon', 'Aarian',\n",
      "       ...\n",
      "       'Zuriel', 'Zy', 'Zyair', 'Zyaire', 'Zyan', 'Zyian', 'Zyien', 'Zyion',\n",
      "       'Zyon', 'Zyree'],\n",
      "      dtype='object', name='Name', length=10221)\n"
     ]
    }
   ],
   "source": [
    "gender_neutral_names_years = df.groupby(['Name', 'Gender'])['Year'].nunique().unstack().dropna()\n",
    "popular_gender_neutral_names = gender_neutral_names_years.index\n",
    "print(popular_gender_neutral_names)"
   ]
  },
  {
   "cell_type": "code",
   "execution_count": 44,
   "id": "43fa05c3-a0f8-4d8b-aa14-08d87879b3c3",
   "metadata": {},
   "outputs": [
    {
     "name": "stdout",
     "output_type": "stream",
     "text": [
      "Name\n",
      "Aabid      5\n",
      "Aadhyan    5\n",
      "Aadian     5\n",
      "Aadrian    5\n",
      "Aadrit     5\n",
      "Aafreen    5\n",
      "Aagot      5\n",
      "Aahron     5\n",
      "Aaiyana    5\n",
      "Aaja       5\n",
      "Name: Count, dtype: int64\n"
     ]
    }
   ],
   "source": [
    "unpopular_names = df.groupby('Name')['Count'].sum().nsmallest(10)\n",
    "print(unpopular_names)"
   ]
  },
  {
   "cell_type": "code",
   "execution_count": 45,
   "id": "e9ffa57b-1138-4711-b785-fdda738892de",
   "metadata": {},
   "outputs": [
    {
     "data": {
      "image/png": "[encoded data removed]",
      "text/plain": [
       "<Figure size 1000x600 with 1 Axes>"
      ]
     },
     "metadata": {},
     "output_type": "display_data"
    }
   ],
   "source": [
    "import matplotlib.pyplot as plt\n",
    "\n",
    "john_female = df[(df['Name'] == 'John') & (df['Gender'] == 'F')].groupby('Year')['Count'].sum()\n",
    "mary_male = df[(df['Name'] == 'Mary') & (df['Gender'] == 'M')].groupby('Year')['Count'].sum()\n",
    "\n",
    "plt.figure(figsize=(10, 6))\n",
    "plt.plot(john_female.index, john_female.values, label='Female John')\n",
    "plt.plot(mary_male.index, mary_male.values, label='Male Mary')\n",
    "plt.legend()\n",
    "plt.show()\n"
   ]
  }
 ],
 "metadata": {
  "kernelspec": {
   "display_name": "Python 3 (ipykernel)",
   "language": "python",
   "name": "python3"
  },
  "language_info": {
   "codemirror_mode": {
    "name": "ipython",
    "version": 3
   },
   "file_extension": ".py",
   "mimetype": "text/x-python",
   "name": "python",
   "nbconvert_exporter": "python",
   "pygments_lexer": "ipython3",
   "version": "3.12.7"
  }
 },
 "nbformat": 4,
 "nbformat_minor": 5
}
