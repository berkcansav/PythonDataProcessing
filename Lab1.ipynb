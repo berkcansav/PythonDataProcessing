{
 "cells": [
  {
   "attachments": {
    "03844ae6-460a-44f2-8e3b-097b1bc767b3.jfif": {
     "image/jpeg": "[encoded data removed]"
    },
    "e307df3d-333d-4309-8382-40a42289a15f.jfif": {
     "image/jpeg": "[encoded data removed]"
    }
   },
   "cell_type": "markdown",
   "id": "ca304384-a742-4c15-ae01-2c3b50d0dde4",
   "metadata": {},
   "source": [
    "# **Iceland**\n",
    "Iceland is a Nordic island country in the North Atlantic Ocean, with a population of about 372,000 and an area of 103,000 km², making it the most sparsely populated country in Europe. Its capital and largest city is Reykjavík, which, along with the surrounding areas in the southwest, is home to over two-thirds of the population. Iceland is volcanically and geologically active, characterized by geysers, hot springs, waterfalls, and lava fields.\n",
    "\n",
    "The country is known for its welfare system, high standard of living, and emphasis on renewable energy. Iceland's parliament, the Althing, founded in 930 AD, is one of the oldest in the world. Although Iceland is a member of the European Economic Area (EEA), it is not part of the European Union (EU). Its economy relies mainly on tourism, fishing, and renewable energy resources.\n",
    "\n",
    "Iceland has a rich cultural history with a strong literary tradition, including the famous Icelandic sagas. It also has a vibrant contemporary music and art scene.\n",
    "## Geography\n",
    "- **Area**: 103,000 km²\n",
    "- **Population**: ~372,000\n",
    "\n",
    "### Government\n",
    "**Type**: Parliamentary Republic\n",
    "\n",
    "### Celebrities\n",
    "- Björk Guðmundsdóttir (Singer)\n",
    "- Halldór Laxness (Writer, Nobel Prize Winner)\n",
    "\n",
    "### Attractions\n",
    "- **Natural**: Blue Lagoon, Vatnajökull National Park\n",
    "- **Cultural**: Harpa Concert Hall\n",
    "\n",
    "| **Famous Attractions** | **Location** |\n",
    "|------------------------|--------------|\n",
    "| Blue Lagoon            | Grindavík    |\n",
    "| Þingvellir National Park| South-west  |\n",
    "### Image \n",
    "![images.jfif](attachment:e307df3d-333d-4309-8382-40a42289a15f.jfif)\n",
    "![images (1).jfif](attachment:03844ae6-460a-44f2-8e3b-097b1bc767b3.jfif)\n",
    "\n",
    "**Flag of Iceland**:\n",
    "<br>\n",
    "<svg width=\"100\" height=\"60\">\n",
    "  <rect width=\"100\" height=\"60\" style=\"fill:blue\"/>\n",
    "  <rect x=\"27\" width=\"10\" height=\"60\" style=\"fill:white\"/>\n",
    "  <rect y=\"25\" width=\"100\" height=\"10\" style=\"fill:white\"/>\n",
    "  <rect x=\"30\" width=\"4\" height=\"60\" style=\"fill:red\"/>\n",
    "  <rect y=\"28\" width=\"100\" height=\"4\" style=\"fill:red\"/>\n",
    "</svg>\n",
    "\n"
   ]
  },
  {
   "cell_type": "code",
   "execution_count": 9,
   "id": "90d438a7-9977-4e33-9ef0-09c1a4c8e748",
   "metadata": {},
   "outputs": [],
   "source": [
    "def decimal_to_binary(num):\n",
    "    try:\n",
    "        # Split integer and fractional part\n",
    "        if '.' in str(num):\n",
    "            integer, fraction = str(num).split('.')\n",
    "        else:\n",
    "            integer, fraction = str(num), '0'\n",
    "        \n",
    "        # Convert integer part to binary\n",
    "        integer_bin = bin(int(integer)).replace('0b', '')\n",
    "        \n",
    "        # Convert fraction part to binary (floating point binary conversion)\n",
    "        fraction_bin = ''\n",
    "        fraction = float(f'0.{fraction}')\n",
    "        while fraction > 0 and len(fraction_bin) <= 16:\n",
    "            fraction *= 2\n",
    "            if fraction >= 1:\n",
    "                fraction_bin += '1'\n",
    "                fraction -= 1\n",
    "            else:\n",
    "                fraction_bin += '0'\n",
    "        \n",
    "        sign = '1' if float(num) < 0 else '0'\n",
    "        result = f\"{sign}|{integer_bin}\"\n",
    "        if fraction_bin:\n",
    "            result += f\".{fraction_bin}\"\n",
    "        \n",
    "        return f\"{num} in binary number system is {result}\"\n",
    "    \n",
    "    except ValueError:\n",
    "        return \"Invalid input, please enter a valid number\"\n",
    "\n",
    "\n"
   ]
  },
  {
   "cell_type": "code",
   "execution_count": 2,
   "id": "72d8068c-418f-4acc-b37f-166f648c7640",
   "metadata": {},
   "outputs": [
    {
     "name": "stdout",
     "output_type": "stream",
     "text": [
      "32 in binary number system is 0|100000\n"
     ]
    }
   ],
   "source": [
    "print(decimal_to_binary(32))"
   ]
  },
  {
   "cell_type": "code",
   "execution_count": 3,
   "id": "ef3a21d3-79d4-422f-8545-ad2a851585cd",
   "metadata": {},
   "outputs": [
    {
     "name": "stdout",
     "output_type": "stream",
     "text": [
      "-10.25 in binary number system is 1|-1010.01\n"
     ]
    }
   ],
   "source": [
    "print(decimal_to_binary(-10.25))"
   ]
  },
  {
   "cell_type": "code",
   "execution_count": 6,
   "id": "43392a0a-3df2-4577-905f-1cbad0a7f2b5",
   "metadata": {},
   "outputs": [
    {
     "name": "stdout",
     "output_type": "stream",
     "text": [
      "45.125 in binary number system is 0|101101.001\n"
     ]
    }
   ],
   "source": [
    "print(decimal_to_binary(45.125))   "
   ]
  },
  {
   "cell_type": "code",
   "execution_count": 7,
   "id": "9102a9fe-a117-4e05-93c7-d13dc28cd61c",
   "metadata": {},
   "outputs": [
    {
     "name": "stdout",
     "output_type": "stream",
     "text": [
      "-5 in binary number system is 1|-101\n"
     ]
    }
   ],
   "source": [
    "print(decimal_to_binary(-5)) "
   ]
  },
  {
   "cell_type": "code",
   "execution_count": 8,
   "id": "57c60096-1d34-4169-9082-3dfee5f8c7a1",
   "metadata": {},
   "outputs": [
    {
     "name": "stdout",
     "output_type": "stream",
     "text": [
      "0 in binary number system is 0|0\n"
     ]
    }
   ],
   "source": [
    "print(decimal_to_binary(0))"
   ]
  },
  {
   "cell_type": "code",
   "execution_count": null,
   "id": "0ecda013-37fe-488e-9407-535b2edaba9a",
   "metadata": {},
   "outputs": [],
   "source": []
  }
 ],
 "metadata": {
  "kernelspec": {
   "display_name": "Python 3 (ipykernel)",
   "language": "python",
   "name": "python3"
  },
  "language_info": {
   "codemirror_mode": {
    "name": "ipython",
    "version": 3
   },
   "file_extension": ".py",
   "mimetype": "text/x-python",
   "name": "python",
   "nbconvert_exporter": "python",
   "pygments_lexer": "ipython3",
   "version": "3.12.5"
  }
 },
 "nbformat": 4,
 "nbformat_minor": 5
}
